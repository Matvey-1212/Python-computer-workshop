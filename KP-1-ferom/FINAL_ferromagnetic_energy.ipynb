{
 "cells": [
  {
   "cell_type": "markdown",
   "id": "26985d90",
   "metadata": {
    "id": "Ns6ik8q-VLMH",
    "pycharm": {
     "name": "#%% md\n"
    }
   },
   "source": [
    "# Энергия ферромагнетика (2D)"
   ]
  },
  {
   "cell_type": "markdown",
   "id": "63bedfd2",
   "metadata": {
    "id": "SNRJ5RpGVLML",
    "pycharm": {
     "name": "#%% md\n"
    }
   },
   "source": [
    "### Условие задачи\n",
    "\n",
    "**Дано:**\n",
    "- двумерная решетка молекул, расположенных в узлах кристаллической решетки, размеров $L_x \\times L_y$ с периодическими границами\n",
    "- каждая молекула обладает спином +1 или -1\n",
    "- межмолекулярное взаимодействие описывается константами $J_{ij} = 1$\n",
    "- модель Изинга\n",
    "\n",
    "\n",
    "**Требуется:**\n",
    "- согласно модели Изинга рассчитать среднюю энергию $\\langle E \\rangle$ для указанной цепочки молекул при:\n",
    "    - размерах решетки $L_x \\in [2, 3, ..., 8]$, $L_y = 4$\n",
    "    - температурах $kT \\in [1, 1.1, ..., 5.0]$\n",
    "- сохранить массив средних энергий при помощи `np.save`\n",
    "- вывести время расчета каждой итерации по $Lx$ или по $k T$\n",
    "- отобразить цветовую карту:\n",
    "    - ось абсцисс - $L_x$,\n",
    "    - ось ординат - $k T$,\n",
    "    - цветом отобразить нормированное значение средней энергии $\\frac{\\langle E \\rangle}{Lx Ly}$,\n",
    "    - подписать оси,\n",
    "    - отобразить цветовую шкалу (`colorbar`),\n",
    "    - засечки должны соответствовать значениям $Lx, kT$.\n",
    "- к каждой функции добавить `docstring` с описанием того, что функция делает, всех параметров и возвращаемого значения    \n",
    "\n",
    "**Описание:**\n",
    "\n",
    "**Одномерный случай**\n",
    "\n",
    "Модель Изинга является моделью магнетика. Пусть этот магнетик состоит из молекул, расположенных в узлах регулярной решетки. Пусть всего таких узлов будет $N$ штук, с индексами $i=1,\\ldots, N$.\n",
    "\n",
    "Предположим, что каждая молекула может быть представлена в виде магнитной стрелки, которая всегда либо направлена вдоль некоторой заданной оси, либо в противоположном направлении. То есть каждая молекула $i$ имеет две конфигурации, которые можно описывать с помощью \"спиновой\" переменной $\\sigma_i$. Эта переменная принимает значение $+1$ (параллельно оси, спин направлен вверх) и $-1$ (антипараллельно оси, спин направлен вниз).\n",
    "\n",
    "Пусть $\\sigma = \\{\\sigma_1, \\sigma_2, \\ldots, \\sigma_N\\}$ обозначает набор значений всех $N$ спинов. Имеется $2^N$ различных наборов $\\sigma$, и каждый из них описывает некоторое состояние системы. \n",
    "\n",
    "Гамильтониан системы  состоит из двух частей: первая $E_0$ включает вклад межмолекулярных сил внутри магнетика, а вторая $E_1(\\sigma)$ вклад от взаимодействий каждого спина с внешним магнитным полем (здесь считается нулевым). \n",
    "$$H(\\sigma)=E_0(\\sigma)+E_1(\\sigma)$$\n",
    "\n",
    "В любой физической системе мы предполагаем все взаимодействия инвариантными по отношению к обращению времени, что означает инвариантность $E$ при изменении знаков всех полей и намагниченностей. Энергия должна быть четной функцией от $\\sigma$:\n",
    "$$E_0(\\sigma_1,\\ldots, \\sigma_N)=E_0(-\\sigma_1,\\ldots, -\\sigma_N)$$\n",
    "\n",
    "Энергия системы при нулевом внешнем магнитном поле равна сумме произведений **соседних** спинов на константы взаимодействия $J_{ij}$\n",
    "$$E(\\sigma) = -\\sum_{i} J_{i,i+1}\\sigma_{i}\\sigma_{i+1} $$\n",
    "\n",
    "Вероятность находиться в состоянии $\\sigma$\n",
    "$$P(\\sigma)=\\frac{e^{-\\beta E(\\sigma)}}{Z},$$\n",
    "где \n",
    "$$Z = \\sum_{\\sigma} e^{-\\beta E(\\sigma)}-$$ \n",
    "статистическая сумма, $$\\beta = \\frac{1}{k T}-$$ обратная температура, $k-$ константа Больцмана.\n",
    "\t\n",
    "Средняя энергия системы \n",
    "$$\\langle E \\rangle = \\frac{1}{Z}\\sum_{\\{\\sigma \\}} E(\\sigma)e^{-\\frac{E(\\sigma)}{kT}}$$\n",
    "рассчитывается по всевозможным состояниям системы, т.е. всевозможным наборам $\\sigma$.\n",
    "\n",
    "**Двумерный случай**\n",
    "\n",
    "В случае двумерной решетки энергия системы при нулевом внешнем магнитном поле вычисляется следующим образом: \n",
    "$$E(\\sigma) = -\\sum_{i,j} J_{ij}(\\sigma_{i,j}\\sigma_{i+1,j} + \\sigma_{i,j}\\sigma_{i,j+1})$$\n",
    "\n",
    "\n",
    "**Проверка корректности результатов**\n",
    "\n",
    "Средняя энергия для $L_x=4$ при температурах $kT \\in [1, 1.1, ..., 5.0]$:\n",
    "\n",
    "```\n",
    "[-1.99715844 -1.99396091 -1.98856632 -1.98016965 -1.96786355 -1.95064256\n",
    " -1.9274244  -1.89711215 -1.85871667 -1.81153907 -1.75538029 -1.69071311\n",
    " -1.61874282 -1.54131149 -1.46065977 -1.37911648 -1.29880759 -1.22145424\n",
    " -1.14828469 -1.0800446  -1.01706963 -0.95938399 -0.90679838 -0.85899291\n",
    " -0.8155803  -0.77615005 -0.74029707 -0.70763857 -0.67782287 -0.65053286\n",
    " -0.62548613 -0.60243323 -0.58115501 -0.56145948 -0.5431787  -0.52616582\n",
    " -0.5102923  -0.49544555 -0.48152673 -0.46844889]\n",
    "```\n",
    "\n",
    "\n",
    "**Материалы:**\n",
    "- [Бэкстер Р., Вольский Е. П., Дайхин Л. И. Точно решаемые модели в статистической механике](https://yadi.sk/i/2oY4c0bL08pNiw)\n",
    "- [Пример хорошего `docstring`](https://github.com/numpy/numpy/blob/v1.21.0/numpy/linalg/linalg.py#L313-L395)\n",
    "- [Зиннуров Б.Д., Якименко В.Я. Магнитные свойства модели Изинга в низких размерностях (МКР)](https://miem.hse.ru/data/2018/05/24/1149431665/model_Izinga_-_Zinnurov_Yakimenko.pdf)\n",
    "\n",
    "\n",
    "**Правила оценивания:**\n",
    "\n",
    "- оценка за корректно выполненный расчет для количества молекул в цепочке $L_x$, баллов из 100:\n",
    "```\n",
    "    Lx    =   2,   3,   4,   5,    6,    7,     8\n",
    "    g(Lx) = 1.0, 1.8, 3.3, 6.4, 12.6, 24.9,  50.0\n",
    "```\n",
    "    \n",
    "- штрафы $p(i)$, баллов:\n",
    "    - не выведено время расчета - 20\n",
    "    - не выведены значения средней энергии - 20\n",
    "    - не построена карта - 20\n",
    "    - отсутствует `docstring` - 20\n",
    "    - менее значимые недоработки - 10\n",
    "\n",
    "\n",
    "- итоговая оценка за задание = $\\sum_{Lx=2}^{8}{g(Lx)} - \\sum_{i}{p(i)}$\n"
   ]
  },
  {
   "cell_type": "markdown",
   "id": "ed4495f8",
   "metadata": {
    "id": "F1EOWYPhVLMN"
   },
   "source": []
  },
  {
   "cell_type": "code",
   "execution_count": 32,
   "id": "6ea56e06",
   "metadata": {
    "ExecuteTime": {
     "end_time": "2022-11-09T16:52:02.799891Z",
     "start_time": "2022-11-09T16:52:02.490891Z"
    },
    "id": "mO7uFcozVLMO"
   },
   "outputs": [],
   "source": [
    "import numpy as np\n",
    "\n",
    "import math\n",
    "from tqdm.notebook import trange\n",
    "from time import time\n",
    "from numba import jit,njit, cuda\n",
    "import datetime\n",
    "import matplotlib.pyplot as plt"
   ]
  },
  {
   "cell_type": "code",
   "execution_count": 2,
   "id": "92a9e61b",
   "metadata": {
    "ExecuteTime": {
     "end_time": "2022-11-09T16:52:02.815391Z",
     "start_time": "2022-11-09T16:52:02.800892Z"
    },
    "id": "_NnB1b3QVLMP"
   },
   "outputs": [],
   "source": [
    "Lx = np.asarray([2, 3, 4, 5, 6, 7, 8])\n",
    "kT_list = np.asarray(list(range(10, 51, 1)))/ 10"
   ]
  },
  {
   "cell_type": "code",
   "execution_count": 4,
   "id": "d37f871b",
   "metadata": {
    "ExecuteTime": {
     "end_time": "2022-11-09T16:52:02.846392Z",
     "start_time": "2022-11-09T16:52:02.816893Z"
    }
   },
   "outputs": [],
   "source": [
    "@njit()\n",
    "def shange_spin_list(spin): \n",
    "    '''\n",
    "    Возвращает уникальный массив, состоящий из 1 и -1.\n",
    "    \n",
    "            Параметры:\n",
    "                    spin (numpy.ndarray): numpy массив, состоящий из состоящий из 1 и -1\n",
    "                    \n",
    "            Возвращаемое значение:\n",
    "                    spin (numpy.ndarray): numpy массив, состоящий из состоящий из 1 и -1, \n",
    "                                            полученный на основе массива, переданного в функцию\n",
    "    '''\n",
    "    for i in range(len(spin)):\n",
    "        if spin[i] == -1:\n",
    "            spin[i] = 1\n",
    "        else:\n",
    "            spin[i] = -1 \n",
    "            break\n",
    "    return spin\n",
    "\n",
    "@njit()\n",
    "def sum_energy(spin, spin_len):\n",
    "    '''\n",
    "    Возвращает энергию системы двумерной решетки при нулевом внешнем магнитном.\n",
    "    \n",
    "            Параметры:\n",
    "                    spin (numpy.ndarray): numpy массив, состоящий из состоящий из 1 и -1\n",
    "                    spin_len (int): длина массива spin\n",
    "            Возвращаемое значение:\n",
    "                    energy_sum (int): энергию системы двумерной решетки\n",
    "    '''\n",
    "    j = 1\n",
    "    y = 4\n",
    "    energy_sum = 0\n",
    "    for i in range(spin_len):\n",
    "        if i >= j * y:\n",
    "            j+=1\n",
    "\n",
    "        energy_sum += spin[i] * spin[i + 1 if i + 1 < y*j else i + 1 - y] + spin[i] * spin[i + y if i + 4 < spin_len else i - y*(j-1)]\n",
    "        \n",
    "    return energy_sum * (-1)"
   ]
  },
  {
   "cell_type": "code",
   "execution_count": 5,
   "id": "9e6df32c",
   "metadata": {
    "ExecuteTime": {
     "end_time": "2022-11-09T16:52:02.861892Z",
     "start_time": "2022-11-09T16:52:02.847393Z"
    }
   },
   "outputs": [],
   "source": [
    "@njit(parallel=True)\n",
    "def find_mean_energy_jit(i_Lx, kT):  \n",
    "    '''\n",
    "    Возвращает массив средних энергий двумерной решетки для каждого значения температуры\n",
    "            Параметры:\n",
    "                    i_Lx (int): размер решетки по оси Х\n",
    "                    kT (numpy.ndarray): массив, содержащий все значения температуры, умноженной на константу Больцмана\n",
    "            Возвращаемое значение:\n",
    "                    binary_sum (numpy.ndarray): массив средних энергий двумерной решетки для разных температур\n",
    "    '''\n",
    "    \n",
    "    N = 2 ** (i_Lx * 4)\n",
    "    spin_list = np.ones(i_Lx * 4) \n",
    "    spin_len = len(spin_list)\n",
    "\n",
    "    mean_energy_list = np.zeros(len(kT))\n",
    "    \n",
    "    for i_kT in range(len(kT)):\n",
    "  \n",
    "        KT = kT_list[i_kT]\n",
    "        \n",
    "        B = 1 / KT\n",
    "        energy = 0\n",
    "        mean_energy = 0\n",
    "        Z = 0\n",
    "        \n",
    "        \n",
    "    \n",
    "        \n",
    "        for i in range(N):\n",
    "            spin_list = shange_spin_list(spin_list)\n",
    "            energy = sum_energy(spin_list, spin_len)\n",
    "\n",
    "            Z += np.e ** ((-1) * B * energy)\n",
    "\n",
    "            mean_energy += energy * np.e ** ((-1) * energy * B)\n",
    "     \n",
    "        \n",
    "        mean_energy_list[i_kT] = mean_energy /(Z * i_Lx * 4)\n",
    "        \n",
    "    return mean_energy_list    "
   ]
  },
  {
   "cell_type": "code",
   "execution_count": 5,
   "id": "a9b22d46",
   "metadata": {
    "ExecuteTime": {
     "end_time": "2022-11-09T21:05:59.542646Z",
     "start_time": "2022-11-09T16:52:02.862893Z"
    }
   },
   "outputs": [
    {
     "name": "stdout",
     "output_type": "stream",
     "text": [
      "Current time: 2022-11-09 19:52:02.864392 \n",
      "\n"
     ]
    },
    {
     "data": {
      "application/vnd.jupyter.widget-view+json": {
       "model_id": "a914b9d7e7114c34b9d70ef62cd0389e",
       "version_major": 2,
       "version_minor": 0
      },
      "text/plain": [
       "  0%|          | 0/7 [00:00<?, ?it/s]"
      ]
     },
     "metadata": {},
     "output_type": "display_data"
    },
    {
     "name": "stdout",
     "output_type": "stream",
     "text": [
      "Lx: 2\n",
      "time: 0.8080017566680908\n",
      "mean energy: [-1.99509474 -1.98967862 -1.98074878 -1.96731117 -1.94851445 -1.92375828\n",
      " -1.89277291 -1.85565639 -1.81286316 -1.76514762 -1.71347563 -1.65892227\n",
      " -1.60257405 -1.5454491  -1.48844224 -1.43229537 -1.3775895  -1.3247523\n",
      " -1.27407538 -1.22573609 -1.17982015 -1.13634286 -1.09526756 -1.05652101\n",
      " -1.02000562 -0.98560898 -0.9532109  -0.92268862 -0.89392045 -0.86678827\n",
      " -0.84117913 -0.8169862  -0.79410926 -0.77245486 -0.75193626 -0.73247322\n",
      " -0.71399168 -0.69642337 -0.67970548 -0.66378023 -0.64859447]\n",
      "Current time: 2022-11-09 19:52:03.689394 \n",
      "\n",
      "Lx: 3\n",
      "time: 0.007998466491699219\n",
      "mean energy: [-1.99711779 -1.99383665 -1.98825271 -1.97949351 -1.96659182 -1.94853206\n",
      " -1.92432618 -1.89312223 -1.85433583 -1.80777902 -1.75375117 -1.69305981\n",
      " -1.62695673 -1.55700043 -1.48487836 -1.41223059 -1.34050963 -1.27089443\n",
      " -1.20425882 -1.14118312 -1.08199278 -1.02680913 -0.97560137 -0.92823315\n",
      " -0.88450084 -0.84416295 -0.80696158 -0.77263715 -0.7409381  -0.71162671\n",
      " -0.68448222 -0.65930219 -0.63590256 -0.61411702 -0.5937959  -0.57480491\n",
      " -0.55702372 -0.54034463 -0.52467121 -0.50991714 -0.49600503]\n",
      "Current time: 2022-11-09 19:52:03.699394 \n",
      "\n",
      "Lx: 4\n",
      "time: 0.13849925994873047\n",
      "mean energy: [-1.99715844 -1.99396091 -1.98856632 -1.98016965 -1.96786355 -1.95064256\n",
      " -1.9274244  -1.89711215 -1.85871667 -1.81153907 -1.75538029 -1.69071311\n",
      " -1.61874282 -1.54131149 -1.46065977 -1.37911648 -1.29880759 -1.22145424\n",
      " -1.14828469 -1.0800446  -1.01706963 -0.95938399 -0.90679838 -0.85899291\n",
      " -0.8155803  -0.77615005 -0.74029707 -0.70763857 -0.67782287 -0.65053286\n",
      " -0.62548613 -0.60243323 -0.58115501 -0.56145948 -0.5431787  -0.52616582\n",
      " -0.5102923  -0.49544555 -0.48152673 -0.46844889 -0.45613537]\n",
      "Current time: 2022-11-09 19:52:03.839395 \n",
      "\n",
      "Lx: 5\n",
      "time: 2.152005672454834\n",
      "mean energy: [-1.99715893 -1.99396296 -1.98857263 -1.98018387 -1.96788363 -1.95063964\n",
      " -1.92729692 -1.89661121 -1.85735639 -1.80853133 -1.74965024 -1.68103752\n",
      " -1.60399878 -1.52075577 -1.43412763 -1.3470633  -1.26219309 -1.18153361\n",
      " -1.10638872 -1.03740747 -0.97472647 -0.918132   -0.86720255 -0.82141645\n",
      " -0.78022445 -0.74309384 -0.70953215 -0.67909749 -0.65140075 -0.62610332\n",
      " -0.60291264 -0.58157686 -0.56187952 -0.54363452 -0.52668165 -0.51088271\n",
      " -0.49611811 -0.48228409 -0.46929029 -0.45705774 -0.44551718]\n",
      "Current time: 2022-11-09 19:52:05.993402 \n",
      "\n",
      "Lx: 6\n",
      "time: 37.945109128952026\n",
      "mean energy: [-1.99715857 -1.99396113 -1.9885651  -1.98015781 -1.96780519 -1.95042956\n",
      " -1.92678909 -1.89549406 -1.8551112  -1.80440326 -1.74270304 -1.67032537\n",
      " -1.58882722 -1.50092868 -1.41005807 -1.31969261 -1.23276666 -1.15134108\n",
      " -1.07656139 -1.00881115 -0.94793988 -0.8934793  -0.84480933 -0.8012682\n",
      " -0.76221687 -0.72707144 -0.69531564 -0.66650184 -0.6402464  -0.61622247\n",
      " -0.59415234 -0.57380002 -0.55496464 -0.53747479 -0.52118368 -0.50596511\n",
      " -0.49171009 -0.47832415 -0.46572503 -0.45384075 -0.44260812]\n",
      "Current time: 2022-11-09 19:52:43.940511 \n",
      "\n",
      "Lx: 7\n",
      "time: 677.5261137485504\n",
      "mean energy: [-1.9971582  -1.99395917 -1.98855692 -1.98012917 -1.96771861 -1.95019835\n",
      " -1.92623542 -1.89429394 -1.85274448 -1.80014858 -1.73572886 -1.65989967\n",
      " -1.57458935 -1.48308936 -1.38940407 -1.29738701 -1.21005576 -1.1293045\n",
      " -1.05597909 -0.99014355 -0.93137801 -0.87902057 -0.83233015 -0.79058107\n",
      " -0.75310988 -0.71933295 -0.68874798 -0.66092782 -0.63551132 -0.61219363\n",
      " -0.59071721 -0.5708639  -0.55244826 -0.53531194 -0.51931914 -0.50435284\n",
      " -0.49031168 -0.47710754 -0.46466335 -0.45291152 -0.44179242]\n",
      "Current time: 2022-11-09 20:04:01.469096 \n",
      "\n",
      "Lx: 8\n",
      "time: 14518.058559894562\n",
      "mean energy: [-1.99715782 -1.99395721 -1.9885487  -1.98010037 -1.96763138 -1.94996515\n",
      " -1.92567737 -1.89308841 -1.8503837  -1.79595524 -1.72897958 -1.65006494\n",
      " -1.56159887 -1.46746092 -1.37213467 -1.27966282 -1.19294766 -1.11358152\n",
      " -1.0420662  -0.97817673 -0.92129527 -0.87064764 -0.82544474 -0.78495364\n",
      " -0.74852627 -0.71560459 -0.68571475 -0.65845691 -0.63349414 -0.61054231\n",
      " -0.58936111 -0.56974636 -0.55152389 -0.53454443 -0.51867942 -0.50381755\n",
      " -0.48986203 -0.47672839 -0.46434245 -0.45263888 -0.44155997]\n",
      "Current time: 2022-11-10 00:05:59.530156 \n",
      "\n"
     ]
    }
   ],
   "source": [
    "n = len(Lx)\n",
    "mean_energy_list = []\n",
    "times = []\n",
    "print(\"Current time:\", datetime.datetime.now(), \"\\n\")\n",
    "for i in trange(n):\n",
    "    lx = Lx[i]\n",
    "    t = time()\n",
    "                \n",
    "    mean_energy = find_mean_energy_jit(lx, kT_list)\n",
    "    times.append(time()-t)\n",
    "                \n",
    "    print(\"Lx:\", lx)\n",
    "    print(\"time:\", times[-1])\n",
    "    print(\"mean energy:\",mean_energy)\n",
    "    print(\"Current time:\", datetime.datetime.now(), \"\\n\")\n",
    "                \n",
    "    mean_energy_list.append(mean_energy)\n",
    "    np.save('all_normal_mean_energy',np.asarray(mean_energy_list))\n",
    "    "
   ]
  },
  {
   "cell_type": "code",
   "execution_count": 4,
   "id": "ee4390fb",
   "metadata": {
    "ExecuteTime": {
     "end_time": "2022-11-09T22:08:11.619770Z",
     "start_time": "2022-11-09T22:08:11.600267Z"
    },
    "scrolled": true
   },
   "outputs": [
    {
     "data": {
      "text/plain": [
       "array([[-1.99509474, -1.98967862, -1.98074878, -1.96731117, -1.94851445,\n",
       "        -1.92375828, -1.89277291, -1.85565639, -1.81286316, -1.76514762,\n",
       "        -1.71347563, -1.65892227, -1.60257405, -1.5454491 , -1.48844224,\n",
       "        -1.43229537, -1.3775895 , -1.3247523 , -1.27407538, -1.22573609,\n",
       "        -1.17982015, -1.13634286, -1.09526756, -1.05652101, -1.02000562,\n",
       "        -0.98560898, -0.9532109 , -0.92268862, -0.89392045, -0.86678827,\n",
       "        -0.84117913, -0.8169862 , -0.79410926, -0.77245486, -0.75193626,\n",
       "        -0.73247322, -0.71399168, -0.69642337, -0.67970548, -0.66378023,\n",
       "        -0.64859447],\n",
       "       [-1.99711779, -1.99383665, -1.98825271, -1.97949351, -1.96659182,\n",
       "        -1.94853206, -1.92432618, -1.89312223, -1.85433583, -1.80777902,\n",
       "        -1.75375117, -1.69305981, -1.62695673, -1.55700043, -1.48487836,\n",
       "        -1.41223059, -1.34050963, -1.27089443, -1.20425882, -1.14118312,\n",
       "        -1.08199278, -1.02680913, -0.97560137, -0.92823315, -0.88450084,\n",
       "        -0.84416295, -0.80696158, -0.77263715, -0.7409381 , -0.71162671,\n",
       "        -0.68448222, -0.65930219, -0.63590256, -0.61411702, -0.5937959 ,\n",
       "        -0.57480491, -0.55702372, -0.54034463, -0.52467121, -0.50991714,\n",
       "        -0.49600503],\n",
       "       [-1.99715844, -1.99396091, -1.98856632, -1.98016965, -1.96786355,\n",
       "        -1.95064256, -1.9274244 , -1.89711215, -1.85871667, -1.81153907,\n",
       "        -1.75538029, -1.69071311, -1.61874282, -1.54131149, -1.46065977,\n",
       "        -1.37911648, -1.29880759, -1.22145424, -1.14828469, -1.0800446 ,\n",
       "        -1.01706963, -0.95938399, -0.90679838, -0.85899291, -0.8155803 ,\n",
       "        -0.77615005, -0.74029707, -0.70763857, -0.67782287, -0.65053286,\n",
       "        -0.62548613, -0.60243323, -0.58115501, -0.56145948, -0.5431787 ,\n",
       "        -0.52616582, -0.5102923 , -0.49544555, -0.48152673, -0.46844889,\n",
       "        -0.45613537],\n",
       "       [-1.99715893, -1.99396296, -1.98857263, -1.98018387, -1.96788363,\n",
       "        -1.95063964, -1.92729692, -1.89661121, -1.85735639, -1.80853133,\n",
       "        -1.74965024, -1.68103752, -1.60399878, -1.52075577, -1.43412763,\n",
       "        -1.3470633 , -1.26219309, -1.18153361, -1.10638872, -1.03740747,\n",
       "        -0.97472647, -0.918132  , -0.86720255, -0.82141645, -0.78022445,\n",
       "        -0.74309384, -0.70953215, -0.67909749, -0.65140075, -0.62610332,\n",
       "        -0.60291264, -0.58157686, -0.56187952, -0.54363452, -0.52668165,\n",
       "        -0.51088271, -0.49611811, -0.48228409, -0.46929029, -0.45705774,\n",
       "        -0.44551718],\n",
       "       [-1.99715857, -1.99396113, -1.9885651 , -1.98015781, -1.96780519,\n",
       "        -1.95042956, -1.92678909, -1.89549406, -1.8551112 , -1.80440326,\n",
       "        -1.74270304, -1.67032537, -1.58882722, -1.50092868, -1.41005807,\n",
       "        -1.31969261, -1.23276666, -1.15134108, -1.07656139, -1.00881115,\n",
       "        -0.94793988, -0.8934793 , -0.84480933, -0.8012682 , -0.76221687,\n",
       "        -0.72707144, -0.69531564, -0.66650184, -0.6402464 , -0.61622247,\n",
       "        -0.59415234, -0.57380002, -0.55496464, -0.53747479, -0.52118368,\n",
       "        -0.50596511, -0.49171009, -0.47832415, -0.46572503, -0.45384075,\n",
       "        -0.44260812],\n",
       "       [-1.9971582 , -1.99395917, -1.98855692, -1.98012917, -1.96771861,\n",
       "        -1.95019835, -1.92623542, -1.89429394, -1.85274448, -1.80014858,\n",
       "        -1.73572886, -1.65989967, -1.57458935, -1.48308936, -1.38940407,\n",
       "        -1.29738701, -1.21005576, -1.1293045 , -1.05597909, -0.99014355,\n",
       "        -0.93137801, -0.87902057, -0.83233015, -0.79058107, -0.75310988,\n",
       "        -0.71933295, -0.68874798, -0.66092782, -0.63551132, -0.61219363,\n",
       "        -0.59071721, -0.5708639 , -0.55244826, -0.53531194, -0.51931914,\n",
       "        -0.50435284, -0.49031168, -0.47710754, -0.46466335, -0.45291152,\n",
       "        -0.44179242],\n",
       "       [-1.99715782, -1.99395721, -1.9885487 , -1.98010037, -1.96763138,\n",
       "        -1.94996515, -1.92567737, -1.89308841, -1.8503837 , -1.79595524,\n",
       "        -1.72897958, -1.65006494, -1.56159887, -1.46746092, -1.37213467,\n",
       "        -1.27966282, -1.19294766, -1.11358152, -1.0420662 , -0.97817673,\n",
       "        -0.92129527, -0.87064764, -0.82544474, -0.78495364, -0.74852627,\n",
       "        -0.71560459, -0.68571475, -0.65845691, -0.63349414, -0.61054231,\n",
       "        -0.58936111, -0.56974636, -0.55152389, -0.53454443, -0.51867942,\n",
       "        -0.50381755, -0.48986203, -0.47672839, -0.46434245, -0.45263888,\n",
       "        -0.44155997]])"
      ]
     },
     "execution_count": 4,
     "metadata": {},
     "output_type": "execute_result"
    }
   ],
   "source": [
    "arr = np.load('all_normal_mean_energy.npy')\n",
    "arr"
   ]
  },
  {
   "cell_type": "code",
   "execution_count": 7,
   "id": "5ba56e70",
   "metadata": {
    "ExecuteTime": {
     "end_time": "2022-11-09T21:05:59.589121Z",
     "start_time": "2022-11-09T21:05:59.575123Z"
    }
   },
   "outputs": [
    {
     "data": {
      "text/plain": [
       "[0.8080017566680908,\n",
       " 0.007998466491699219,\n",
       " 0.13849925994873047,\n",
       " 2.152005672454834,\n",
       " 37.945109128952026,\n",
       " 677.5261137485504,\n",
       " 14518.058559894562]"
      ]
     },
     "execution_count": 7,
     "metadata": {},
     "output_type": "execute_result"
    }
   ],
   "source": [
    "times"
   ]
  },
  {
   "cell_type": "markdown",
   "id": "4a4c0fe0",
   "metadata": {},
   "source": [
    "задача отключилась от ядра и вычисления слетели"
   ]
  },
  {
   "cell_type": "code",
   "execution_count": 5,
   "id": "6a7db87b",
   "metadata": {
    "ExecuteTime": {
     "end_time": "2022-11-09T22:10:11.807873Z",
     "start_time": "2022-11-09T22:10:11.804372Z"
    }
   },
   "outputs": [],
   "source": [
    "times_last = np.asarray([0.8080017566680908,\n",
    " 0.007998466491699219,\n",
    " 0.13849925994873047,\n",
    " 2.152005672454834,\n",
    " 37.945109128952026,\n",
    " 677.5261137485504,\n",
    " 14518.058559894562])"
   ]
  },
  {
   "cell_type": "code",
   "execution_count": 6,
   "id": "9fc5d983",
   "metadata": {
    "ExecuteTime": {
     "end_time": "2022-11-09T22:10:35.894719Z",
     "start_time": "2022-11-09T22:10:35.880219Z"
    }
   },
   "outputs": [
    {
     "data": {
      "text/plain": [
       "4.232398968868785"
      ]
     },
     "execution_count": 6,
     "metadata": {},
     "output_type": "execute_result"
    }
   ],
   "source": [
    "times_last.sum() / 3600"
   ]
  },
  {
   "cell_type": "code",
   "execution_count": 50,
   "id": "12a1524e",
   "metadata": {},
   "outputs": [],
   "source": [
    "import matplotlib.pyplot as plt\n",
    "from matplotlib import transforms"
   ]
  },
  {
   "cell_type": "code",
   "execution_count": 51,
   "id": "f115d7ba",
   "metadata": {},
   "outputs": [
    {
     "data": {
      "image/png": "[encoded data removed]",
      "text/plain": [
       "<Figure size 720x720 with 2 Axes>"
      ]
     },
     "metadata": {
      "needs_background": "light"
     },
     "output_type": "display_data"
    }
   ],
   "source": [
    "plt.figure(figsize=(10,10))\n",
    "base = plt.gca().transData\n",
    "rot = transforms.Affine2D().rotate_deg(90)\n",
    "plt.pcolormesh(np.linspace(1,5,41), -np.linspace(2,8,7), arr,cmap= 'coolwarm', shading='auto',transform= rot + base)\n",
    "plt.xlabel(\"Lx\")\n",
    "plt.ylabel(\"kT\")\n",
    "\n",
    "plt.colorbar();"
   ]
  },
  {
   "cell_type": "code",
   "execution_count": null,
   "id": "826aed8c",
   "metadata": {},
   "outputs": [],
   "source": []
  }
 ],
 "metadata": {
  "colab": {
   "provenance": []
  },
  "kernelspec": {
   "display_name": "Python 3 (ipykernel)",
   "language": "python",
   "name": "python3"
  },
  "language_info": {
   "codemirror_mode": {
    "name": "ipython",
    "version": 3
   },
   "file_extension": ".py",
   "mimetype": "text/x-python",
   "name": "python",
   "nbconvert_exporter": "python",
   "pygments_lexer": "ipython3",
   "version": "3.8.5"
  },
  "toc": {
   "base_numbering": 1,
   "nav_menu": {},
   "number_sections": true,
   "sideBar": true,
   "skip_h1_title": false,
   "title_cell": "Table of Contents",
   "title_sidebar": "Contents",
   "toc_cell": false,
   "toc_position": {},
   "toc_section_display": true,
   "toc_window_display": false
  },
  "varInspector": {
   "cols": {
    "lenName": 16,
    "lenType": 16,
    "lenVar": 40
   },
   "kernels_config": {
    "python": {
     "delete_cmd_postfix": "",
     "delete_cmd_prefix": "del ",
     "library": "var_list.py",
     "varRefreshCmd": "print(var_dic_list())"
    },
    "r": {
     "delete_cmd_postfix": ") ",
     "delete_cmd_prefix": "rm(",
     "library": "var_list.r",
     "varRefreshCmd": "cat(var_dic_list()) "
    }
   },
   "types_to_exclude": [
    "module",
    "function",
    "builtin_function_or_method",
    "instance",
    "_Feature"
   ],
   "window_display": false
  }
 },
 "nbformat": 4,
 "nbformat_minor": 5
}
