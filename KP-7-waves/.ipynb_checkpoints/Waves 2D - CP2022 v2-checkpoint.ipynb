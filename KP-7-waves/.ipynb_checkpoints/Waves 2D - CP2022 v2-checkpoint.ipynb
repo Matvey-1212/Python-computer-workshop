{
 "cells": [
  {
   "cell_type": "markdown",
   "id": "a5808c32",
   "metadata": {},
   "source": [
    "# Компьютерный практикум 2022-2023"
   ]
  },
  {
   "cell_type": "markdown",
   "id": "c8320711",
   "metadata": {},
   "source": [
    "### Тема: Распространение волн\n",
    "\n",
    "\n",
    "**Семинар 1**. Введение в задачу о распростанении волн. Моделирование распространения волн в однородной среде с отражением или поглощением на границе.\n",
    "\n",
    "Семинар 2. Преломление. Моделирование распространения волн в неоднородной среде. Расчет дисперсии света на треугольной призме."
   ]
  },
  {
   "cell_type": "markdown",
   "id": "7ee63893",
   "metadata": {},
   "source": [
    "### Используемые модули\n",
    "\n",
    "- `numpy`\n",
    "- `holoviews` (`bokeh`)\n",
    "- `tqdm`\n"
   ]
  },
  {
   "cell_type": "markdown",
   "id": "2803aa4d",
   "metadata": {},
   "source": [
    "### Теоретическое введение\n",
    "\n",
    "Распростанение волн можно описать при помощи однородного волнового уравнения (двумерный случай):\n",
    "\n",
    "- $\\frac{\\partial^2{u}}{\\partial{t^2}} = с^2 \\Delta u$\n",
    "- $\\frac{\\partial^2{u}}{\\partial{t^2}} = с^2 \\left(\\frac{\\partial^2{u}}{\\partial{x^2}} + \\frac{\\partial^2{u}}{\\partial{y^2}} \\right)$\n",
    "\n",
    ", где\n",
    "\n",
    "- $u(t, x, y)$ - функция, описывающая отклонение среды от положения покоя\n",
    "- $с$ - скорость распространения волн в среде"
   ]
  },
  {
   "cell_type": "markdown",
   "id": "0e39f3c6",
   "metadata": {},
   "source": [
    "Для решения задачи распространения волн рассматриваемое тело представляют в виде двумерной решетки с равномерным шагом, а дифференциальное уравнение заменяют на конечно-разностное.\n",
    "\n",
    "Хранить двумерную сетку необходимо для трех моментов времени:\n",
    "\n",
    "- $u^{(0)}$ - будущий момент времени $t + dt$\n",
    "- $u^{(1)}$ - настоящий момент времени $t$\n",
    "- $u^{(2)}$ - прошлый момент времени $t - dt$"
   ]
  },
  {
   "cell_type": "markdown",
   "id": "4f958926",
   "metadata": {},
   "source": [
    "Вторая производная функции $u$ по времени заменяется на конечноразностный аналог:\n",
    "\n",
    "$\n",
    "\\begin{equation}\n",
    "u^{(1)}_{{tt}_{i,j}} = \\frac{u^{(0)}_{i,j} - 2 u^{(1)}_{i,j} + u^{(2)}_{i,j}}{dt^2}\n",
    "\\end{equation}\n",
    "$"
   ]
  },
  {
   "cell_type": "markdown",
   "id": "4e4ea794",
   "metadata": {},
   "source": [
    "Оператор Лапласа $\\Delta$ заменяется на дискретный аналог $\\mathbf{D}^2_{i,j}$:\n",
    "\n",
    "$\n",
    "\\begin{equation}\n",
    "\\quad \\mathbf{D}^2_{i,j}=\\begin{bmatrix}0 & 1 & 0\\\\1 & -4 & 1\\\\0 & 1 & 0\\end{bmatrix}\n",
    "\\end{equation}\n",
    "$"
   ]
  },
  {
   "cell_type": "markdown",
   "id": "1d7da93f",
   "metadata": {},
   "source": [
    "$\n",
    "\\begin{equation}\n",
    "\\Delta u^{(1)}_{i,j} = \\frac{u^{(1)}_{i-1,j}+u^{(1)}_{i+1,j}+u^{(1)}_{i,j-1}+u^{(1)}_{i,j+1} - 4 u^{(1)}_{i,j}}{h^2}\n",
    "\\end{equation}\n",
    "$, где\n",
    "\n",
    "$h$ - пространственный шаг решетки."
   ]
  },
  {
   "cell_type": "markdown",
   "id": "7274a073",
   "metadata": {},
   "source": [
    "Объединим обе части уравнения:\n",
    "\n",
    "$\n",
    "\\begin{equation}\n",
    "\\frac{u^{(0)}_{i,j} - 2 u^{(1)}_{i,j} + u^{(2)}_{i,j}}{dt^2} - c^2 \\cdot \\left( \\frac{u^{(1)}_{i-1,j}+u^{(1)}_{i+1,j}+u^{(1)}_{i,j-1}+u^{(1)}_{i,j+1} - 4 u^{(1)}_{i,j}}{h^2} \\right)= 0\n",
    "\\end{equation}\n",
    "$"
   ]
  },
  {
   "cell_type": "markdown",
   "id": "80b3f861",
   "metadata": {},
   "source": [
    "Выразим неизвестное значение $u^{(0)}_{i,j}$ в будущий момент времени и получим основное уравнение для расчета:\n",
    "\n",
    "$\n",
    "\\begin{equation}\n",
    "u^{(0)}_{i,j} = \\kappa^2 \\left( u^{(1)}_{i-1,j}+u^{(1)}_{i+1,j}+u^{(1)}_{i,j-1}+u^{(1)}_{i,j+1} - 4 u^{(1)}_{i,j} \\right) + 2 u^{(1)}_{i,j} -  u^{(2)}_{i,j}\n",
    "\\end{equation}\n",
    "$\n",
    "\n",
    ", где $\\kappa = c \\cdot \\frac{dt}{h}$"
   ]
  },
  {
   "cell_type": "markdown",
   "id": "160c0b8b",
   "metadata": {},
   "source": [
    "### Устойчивость численной схемы\n",
    "\n",
    "Схема устойчива при: $dt \\leq \\frac{h}{c \\cdot \\sqrt{2}}$"
   ]
  },
  {
   "cell_type": "markdown",
   "id": "5c8f5a64",
   "metadata": {},
   "source": [
    "### Граничные условия\n",
    "\n",
    "- Дирихле $u|_g = 0$\n",
    "\n",
    "```\n",
    "\n",
    "```\n",
    "\n",
    "- Неймана $\\frac{\\partial u}{\\partial n} \\Big|_g=0$\n",
    "\n",
    "$\n",
    "\\begin{cases}\n",
    "u^{(0)}_{0,j} &= u^{(1)}_{2,j} \\\\\n",
    "u^{(0)}_{-1,j} &= u^{(1)}_{-3,j} \\\\\n",
    "u^{(0)}_{i,0} &= u^{(1)}_{i,2} \\\\\n",
    "u^{(0)}_{i,-1} &= u^{(1)}_{i,-3}\n",
    "\\end{cases}\n",
    "$\n",
    "\n",
    "- Открытая граница (излучение)\n",
    "\n",
    "$\n",
    "\\begin{cases}\n",
    "\\frac{\\partial u}{\\partial x} \\Big|_{x=0} &= -\\frac{1}{c} \\frac{\\partial u}{\\partial t} \\\\\n",
    "\\frac{\\partial u}{\\partial x} \\Big|_{x=N} &= \\frac{1}{c} \\frac{\\partial u}{\\partial t} \\\\\n",
    " \\\\\n",
    "\\frac{\\partial u}{\\partial y} \\Big|_{y=0} &= -\\frac{1}{c} \\frac{\\partial u}{\\partial t} \\\\\n",
    "\\frac{\\partial u}{\\partial y} \\Big|_{y=N} &= \\frac{1}{c} \\frac{\\partial u}{\\partial t}\n",
    "\\end{cases}\n",
    " \\\\\n",
    "\\begin{cases}\n",
    "u^{(0)}_{0,j} &= u^{(1)}_{1,j} + \\frac{\\kappa-1}{\\kappa+1} (u^{(0)}_{1,j} - u^{(1)}_{0,j}) \\\\\n",
    "u^{(0)}_{N,j} &= u^{(1)}_{N-1,j} + \\frac{\\kappa-1}{\\kappa+1} (u^{(0)}_{N-1,j} - u^{(1)}_{N,j}) \\\\\n",
    "u^{(0)}_{i,0} &= u^{(1)}_{i,1} + \\frac{\\kappa-1}{\\kappa+1} (u^{(0)}_{i,1} - u^{(1)}_{i,0}) \\\\\n",
    "u^{(0)}_{i,N} &= u^{(1)}_{i,N-1} + \\frac{\\kappa-1}{\\kappa+1} (u^{(0)}_{i,N-1} - u^{(1)}_{i,N})\n",
    "\\end{cases}\n",
    "$\n",
    "\n",
    ", где $\\kappa = c \\cdot \\frac{dt}{h}$"
   ]
  },
  {
   "cell_type": "markdown",
   "id": "f8f6055c",
   "metadata": {},
   "source": [
    "### Ссылки\n",
    "\n",
    "- [Wave equation](https://en.wikipedia.org/wiki/Wave_equation)\n",
    "- [The 2D wave equation - Solution with the method of finite differences in Python](https://beltoforion.de/en/recreational_mathematics/2d-wave-equation.php)\n",
    "- [Wave on a string (interactive demo)](https://phet.colorado.edu/en/simulations/wave-on-a-string/teaching-resources)\n",
    "- [Finite difference methods for 2D and 3D wave equations](https://hplgit.github.io/fdm-book/doc/pub/book/sphinx/._book008.html)\n",
    "- [Absorbing Boundary Conditions for the Finite-Difference Approximation of the Time-Domain Electromagnetic-Field Equations GERRIT MUR](http://home.cc.umanitoba.ca/~lovetrij/cECE4390/Notes/Mur,%20G.%20-%20Absorbing%20BCs%20for%20the%20Finite-Difference%20Approximation%20of%20the%20TD%20EM%20Eqs.%20-%201981pdf.pdf)"
   ]
  },
  {
   "cell_type": "markdown",
   "id": "35123427",
   "metadata": {},
   "source": [
    "### Numpy версия алгоритма расчета"
   ]
  },
  {
   "cell_type": "code",
   "execution_count": null,
   "id": "12d26d0c",
   "metadata": {},
   "outputs": [],
   "source": [
    "import numpy as np\n",
    "import holoviews as hv\n",
    "from tqdm import tqdm_notebook, trange"
   ]
  },
  {
   "cell_type": "code",
   "execution_count": null,
   "id": "e27d6c8a",
   "metadata": {},
   "outputs": [],
   "source": [
    "def create_heatmap(arr):\n",
    "    pipe = hv.streams.Pipe()\n",
    "\n",
    "    def heatmap(data):\n",
    "        return hv.Image(\n",
    "            arr[0, ::-1], \n",
    "            bounds=(0, 0, arr.shape[2], arr.shape[1])).opts(\n",
    "            width=500, \n",
    "            height=400,\n",
    "            colorbar=True, \n",
    "            cmap='jet'\n",
    "        )\n",
    "    dmap = hv.DynamicMap(heatmap, streams = [pipe])\n",
    "    return pipe, dmap"
   ]
  },
  {
   "cell_type": "code",
   "execution_count": null,
   "id": "c8379197",
   "metadata": {},
   "outputs": [],
   "source": [
    "def create_curve(arr):\n",
    "    pipe = hv.streams.Pipe()\n",
    "\n",
    "    def curve(data):\n",
    "        return hv.Curve({'x':np.arange(arr.shape[2]), 'y':arr[0, arr.shape[1]//2, :]}, ('x', 'x'), ('y', 'A'))\n",
    "    dmap = hv.DynamicMap(curve, streams = [pipe])\n",
    "    return pipe, dmap"
   ]
  },
  {
   "cell_type": "code",
   "execution_count": null,
   "id": "41cd7ece",
   "metadata": {},
   "outputs": [],
   "source": [
    "nx, ny = 400, 400  # размер решетки\n",
    "h = 1.0  # пространственный шаг решетки\n",
    "c = 1.0  # скорость распространения волн\n",
    "\n",
    "dt = h / (c * 2)  # временной шаг"
   ]
  },
  {
   "cell_type": "code",
   "execution_count": null,
   "id": "1df2c54a",
   "metadata": {},
   "outputs": [],
   "source": [
    "def propagate(u: np.ndarray, kappa: np.ndarray):\n",
    "    \"\"\"\n",
    "    Один шаг интегрирования уравнений распространения волны по Эйлеру\n",
    "    \"\"\"\n",
    "    u[2, ...] = u[1, ...]\n",
    "    u[1, ...] = u[0, ...]\n",
    "\n",
    "    u[0, 1:-1, 1:-1] = kappa[1:-1, 1:-1]**2 * (\n",
    "            u[1, 0:-2, 1:-1] +\n",
    "            u[1, 2:,   1:-1] +\n",
    "            u[1, 1:-1, 0:-2] +\n",
    "            u[1, 1:-1, 2:] -\n",
    "            4*u[1, 1:-1, 1:-1]\n",
    "    ) + 2 * u[1, 1:-1, 1:-1] - u[2, 1:-1, 1:-1]"
   ]
  },
  {
   "cell_type": "code",
   "execution_count": null,
   "id": "8e1c9845",
   "metadata": {},
   "outputs": [],
   "source": [
    "def dirichlet(u: np.ndarray, val: float = 0.0):\n",
    "    \"\"\"\n",
    "    Граничные условия Дирихле\n",
    "    \"\"\"\n",
    "    u[0, :, [0, -1]] = val\n",
    "    u[0, [0, -1], :] = val"
   ]
  },
  {
   "cell_type": "code",
   "execution_count": null,
   "id": "8d24a177",
   "metadata": {},
   "outputs": [],
   "source": [
    "def neumann(u: np.ndarray):\n",
    "    \"\"\"\n",
    "    Граничные условия Неймана\n",
    "    \"\"\"\n",
    "    u[0, :, [0, -1]] = u[0, :, [2, -3]]\n",
    "    u[0, [0, -1], :] = u[0, [2, -3], :]"
   ]
  },
  {
   "cell_type": "code",
   "execution_count": null,
   "id": "d27955e1",
   "metadata": {},
   "outputs": [],
   "source": [
    "def open_boundary(u: np.ndarray, kappa: np.ndarray):\n",
    "    \"\"\"\n",
    "    Граничные условия открытой границы\n",
    "    \"\"\"\n",
    "    # y = 0\n",
    "    u[0,  0, :] = u[1,  1, :] + (kappa[ 0, :] - 1) / (kappa[ 0, :] + 1) * (u[0,  1, :] - u[1,  0, :])\n",
    "    u[0, -1, :] = u[1, -2, :] + (kappa[-1, :] - 1) / (kappa[-1, :] + 1) * (u[0, -2, :] - u[1, -1, :])\n",
    "\n",
    "    # x = 0\n",
    "    u[0,  :,  0] = u[1,  :,  1] + (kappa[ :,  0] - 1) / (kappa[ :,  0] + 1) * (u[0, :,  1] - u[1, :,  0])\n",
    "    u[0,  :, -1] = u[1,  :, -2] + (kappa[ :, -1] - 1) / (kappa[ :, -1] + 1) * (u[0, :, -2] - u[1, :, -1])\n"
   ]
  },
  {
   "cell_type": "code",
   "execution_count": null,
   "id": "6732badf",
   "metadata": {},
   "outputs": [],
   "source": [
    "def gauss_peak(u: np.ndarray, x: int, y: int, height: float, sigma: float, size: int = 10):\n",
    "    \"\"\"\n",
    "    Начальное возмущение среды в виде купола функции Гаусса\n",
    "    \"\"\"\n",
    "    xx, yy = np.meshgrid(range(-size, size), range(-size, size))\n",
    "    f = np.exp(- ((xx**2 + yy**2) / (2 * sigma**2)))\n",
    "    u[0:2, x-size:x+size, y-size:y+size] += height * f[None, ...]"
   ]
  },
  {
   "cell_type": "markdown",
   "id": "edb1e9a6",
   "metadata": {},
   "source": [
    "### Симуляция распространения волн для различных граничных условий\n",
    "\n",
    "Основные отличия граничных условий можно наблюдать при достижении волной границы (график справа):\n",
    "\n",
    "- условия Дирихле: волна отразится от границы и перевернется (вся энергия остается в системе)\n",
    "- условия Неймана: волна отразится от границы без переворота (вся энергия остается в системе)\n",
    "- условия открытой границы: волна пройдет границу практически не замечая её (почти вся энергия теряется при выходе волны за границу)"
   ]
  },
  {
   "cell_type": "markdown",
   "id": "b9fcafc7",
   "metadata": {},
   "source": [
    "### Условия Дирихле"
   ]
  },
  {
   "cell_type": "code",
   "execution_count": null,
   "id": "e852573a",
   "metadata": {},
   "outputs": [],
   "source": [
    "u = np.zeros((3, ny, nx))\n",
    "kappa = np.full((ny, nx), c*dt/h)\n",
    "gauss_peak(u, nx//2, ny//2, 100.0, 5.0, size=30)"
   ]
  },
  {
   "cell_type": "code",
   "execution_count": null,
   "id": "59a2ce07",
   "metadata": {},
   "outputs": [],
   "source": [
    "hv.extension('bokeh')\n",
    "pipe1, dmap1 = create_heatmap(u)\n",
    "pipe2, dmap2 = create_curve(u)\n",
    "dmap1 + dmap2"
   ]
  },
  {
   "cell_type": "code",
   "execution_count": null,
   "id": "44bf24d3",
   "metadata": {},
   "outputs": [],
   "source": [
    "# Краевые условия Дирихле соответствуют заделке граничных узлов.\n",
    "# Волна, доходя до границы, отражается от нее и переворачивается.\n",
    "\n",
    "for i in trange(1000):\n",
    "    dirichlet(u, 0.0)\n",
    "    propagate(u, kappa)\n",
    "    if i % 2 == 0:\n",
    "        pipe1.send(0)\n",
    "        pipe2.send(0)"
   ]
  },
  {
   "cell_type": "markdown",
   "id": "1dfd2acc",
   "metadata": {},
   "source": [
    "### Условия Неймана"
   ]
  },
  {
   "cell_type": "code",
   "execution_count": null,
   "id": "a4295317",
   "metadata": {},
   "outputs": [],
   "source": [
    "u = np.zeros((3, ny, nx))\n",
    "kappa = np.full((ny, nx), c*dt/h)\n",
    "gauss_peak(u, nx//2, ny//2, 100.0, 5.0, size=30)"
   ]
  },
  {
   "cell_type": "code",
   "execution_count": null,
   "id": "34a646de",
   "metadata": {},
   "outputs": [],
   "source": [
    "hv.extension('bokeh')\n",
    "pipe1, dmap1 = create_heatmap(u)\n",
    "pipe2, dmap2 = create_curve(u)\n",
    "dmap1 + dmap2"
   ]
  },
  {
   "cell_type": "code",
   "execution_count": null,
   "id": "d863bf4f",
   "metadata": {},
   "outputs": [],
   "source": [
    "for i in trange(1000):\n",
    "    neumann(u)\n",
    "    propagate(u, kappa)\n",
    "    if i % 2 == 0:\n",
    "        pipe1.send(0)\n",
    "        pipe2.send(0)"
   ]
  },
  {
   "cell_type": "markdown",
   "id": "fdef9e86",
   "metadata": {},
   "source": [
    "### Условия открытой границы"
   ]
  },
  {
   "cell_type": "code",
   "execution_count": null,
   "id": "73ec2a30",
   "metadata": {},
   "outputs": [],
   "source": [
    "u = np.zeros((3, ny, nx))\n",
    "kappa = np.full((ny, nx), c*dt/h)\n",
    "gauss_peak(u, nx//2, ny//2, 100.0, 5.0, size=30)"
   ]
  },
  {
   "cell_type": "code",
   "execution_count": null,
   "id": "5e60f719",
   "metadata": {},
   "outputs": [],
   "source": [
    "hv.extension('bokeh')\n",
    "pipe1, dmap1 = create_heatmap(u)\n",
    "pipe2, dmap2 = create_curve(u)\n",
    "dmap1 + dmap2"
   ]
  },
  {
   "cell_type": "code",
   "execution_count": null,
   "id": "ecbe74ce",
   "metadata": {},
   "outputs": [],
   "source": [
    "for i in trange(1000):\n",
    "    open_boundary(u, kappa)\n",
    "    propagate(u, kappa)\n",
    "    if i % 2 == 0:\n",
    "        pipe1.send(0)\n",
    "        pipe2.send(0)"
   ]
  },
  {
   "cell_type": "markdown",
   "id": "f03581b5",
   "metadata": {},
   "source": [
    "### Задание для самостоятельного решения\n",
    "\n",
    "Создать алгоритм расчета интерференционной картины от двух источников возмущений. С некоторым небольшим периодом (например, раз в 100 итераций) выполняются возмущения среды с использованием функции `gauss_peak`. Краевые условия - открытая граница. Остальные параметры - такие же, как в примерах выше. Сравнить результирующую картину (т.е. через 1000 итераций) с аналогичной, но при граничных условиях Дирихле."
   ]
  },
  {
   "cell_type": "code",
   "execution_count": null,
   "id": "55b9d3a3",
   "metadata": {},
   "outputs": [],
   "source": []
  }
 ],
 "metadata": {
  "kernelspec": {
   "display_name": "Python 3 (ipykernel)",
   "language": "python",
   "name": "python3"
  },
  "language_info": {
   "codemirror_mode": {
    "name": "ipython",
    "version": 3
   },
   "file_extension": ".py",
   "mimetype": "text/x-python",
   "name": "python",
   "nbconvert_exporter": "python",
   "pygments_lexer": "ipython3",
   "version": "3.9.7"
  }
 },
 "nbformat": 4,
 "nbformat_minor": 5
}
